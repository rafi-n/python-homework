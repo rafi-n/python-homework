{
 "cells": [
  {
   "cell_type": "code",
   "execution_count": 30,
   "id": "5e9941fc-1db0-44d3-a8a0-277540c627fb",
   "metadata": {},
   "outputs": [
    {
     "name": "stdout",
     "output_type": "stream",
     "text": [
      "Financial Analysis\n",
      "----------------------------\n",
      "Total Months: 86\n",
      "Total: $38382578\n",
      "Average  Change: $-2315.12\n",
      "Greatest Increase in Profits: Feb-2012 ($1926159.0)\n",
      "Greatest Decrease in Profits: Sep-2013 ($-2196167.0)\n",
      "\n"
     ]
    }
   ],
   "source": [
    "# import necessary libraries\n",
    "import pandas as pd\n",
    "\n",
    "# Initialize output file name\n",
    "output_file = 'PyBank.txt'\n",
    "\n",
    "# load data from provided csv. We know what the data looks like: 2 cols, multiple rows\n",
    "bank_data_set = pd.read_csv('budget_data.csv')\n",
    "headers = bank_data_set.columns\n",
    "date_header = headers[0]\n",
    "pnl_header = headers[1]\n",
    "\n",
    "# The total number of months included in the dataset\n",
    "total_months = len(bank_data_set)\n",
    "\n",
    "# The net total amount of Profit/Losses over the entire period\n",
    "net_total_pnl = sum(bank_data_set[pnl_header])\n",
    "\n",
    "# The average of the changes in Profit/Losses over the entire period\n",
    "# first get the changes\n",
    "changes_in_pnl = bank_data_set.set_index(date_header).diff()\n",
    "# NOTE: changes_in_pnl first difference is NaN because it has no previous month to compare to\n",
    "# As a result, we compare 1 month less than the total (i.e. total_months - 1)\n",
    "total_change_in_pnl = sum(changes_in_pnl[pnl_header][1:])\n",
    "average_change_in_pnl = total_change_in_pnl / (total_months - 1)\n",
    "\n",
    "# The greatest increase in profits (date and amount) over the entire period\n",
    "max_incr_in_profits = changes_in_pnl.max().values[0]\n",
    "date_of_max_incr_in_profits = changes_in_pnl.idxmax().values[0]\n",
    "\n",
    "# The greatest decrease in losses (date and amount) over the entire period\n",
    "max_decr_in_profits = changes_in_pnl.min().values[0]\n",
    "date_of_max_decr_in_profits = changes_in_pnl.idxmin().values[0]\n",
    "\n",
    "# print out stats: 1. stdout, 2. file\n",
    "# 0. Create string to be outputted\n",
    "stats = f\"\"\"Financial Analysis\n",
    "----------------------------\n",
    "Total Months: {total_months}\n",
    "Total: ${net_total_pnl}\n",
    "Average  Change: ${average_change_in_pnl:.2f}\n",
    "Greatest Increase in Profits: {date_of_max_incr_in_profits} (${max_incr_in_profits})\n",
    "Greatest Decrease in Profits: {date_of_max_decr_in_profits} (${max_decr_in_profits})\n",
    "\"\"\"\n",
    "\n",
    "# 1. stdout (output to screen)\n",
    "print(stats)\n",
    "\n",
    "# 2. output to file\n",
    "with open(output_file, 'w') as of:\n",
    "    of.write(stats)\n"
   ]
  },
  {
   "cell_type": "code",
   "execution_count": null,
   "id": "682b4f17-7828-42d5-9a61-9ed632824e72",
   "metadata": {},
   "outputs": [],
   "source": []
  }
 ],
 "metadata": {
  "kernelspec": {
   "display_name": "dev",
   "language": "python",
   "name": "dev"
  },
  "language_info": {
   "codemirror_mode": {
    "name": "ipython",
    "version": 3
   },
   "file_extension": ".py",
   "mimetype": "text/x-python",
   "name": "python",
   "nbconvert_exporter": "python",
   "pygments_lexer": "ipython3",
   "version": "3.7.13"
  }
 },
 "nbformat": 4,
 "nbformat_minor": 5
}
