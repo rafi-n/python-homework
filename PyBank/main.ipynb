{
 "cells": [
  {
   "cell_type": "code",
   "execution_count": 154,
   "id": "5e9941fc-1db0-44d3-a8a0-277540c627fb",
   "metadata": {},
   "outputs": [],
   "source": [
    "# import necessary libraries\n",
    "import csv"
   ]
  },
  {
   "cell_type": "code",
   "execution_count": 155,
   "id": "e9ab857a-4e45-4162-9d22-549325156a8f",
   "metadata": {},
   "outputs": [],
   "source": [
    "# Initialize output file name\n",
    "output_file = 'PyBank.txt'"
   ]
  },
  {
   "cell_type": "code",
   "execution_count": 158,
   "id": "6ba47a1f-dffd-49a9-99e9-40218a665eda",
   "metadata": {},
   "outputs": [],
   "source": [
    "# define a function to find the date of any particular change given:\n",
    "# a 'data_set', changes in pnl ('pnl_diffs') and the 'change' we're looking for\n",
    "def date_of_pnl_change(data_set, pnl_diffs, change):\n",
    "    \"\"\"\n",
    "    Returns the date that the 'change' happened from the 'data_set'\n",
    "    Parameters\n",
    "    ----------\n",
    "    dataset : list\n",
    "        data read in from csv\n",
    "    pnl_diffs : list\n",
    "        diffences (amount of change) in Profits and Losses (PnL)\n",
    "    change : int\n",
    "        the particular change in PnL you're looking for\n",
    "    \"\"\"\n",
    "    change_date = [date[0] for date,pnl in zip(data_set[1:],pnl_diffs) if pnl == change][0]\n",
    "    return change_date"
   ]
  },
  {
   "cell_type": "code",
   "execution_count": 162,
   "id": "d4e39054-b942-407e-9217-5fe240c3ee03",
   "metadata": {},
   "outputs": [],
   "source": [
    "# load data from provided csv. We know what the data looks like: 2 cols, multiple rows\n",
    "budget_data = []\n",
    "with open('budget_data.csv') as csv_file:\n",
    "    bank_data_set = csv.reader(csv_file)\n",
    "    header = next(bank_data_set)\n",
    "    budget_data = [[data[0], int(data[1])] for data in bank_data_set]\n",
    "\n",
    "# The total number of months included in the dataset\n",
    "total_months = len(budget_data)\n",
    "\n",
    "# The net total amount of Profit/Losses over the entire period\n",
    "pnls = [pnl[1] for pnl in budget_data]\n",
    "net_total_pnl = sum(pnls)"
   ]
  },
  {
   "cell_type": "code",
   "execution_count": 163,
   "id": "9d65fe15-ba97-45e1-9713-bb3aa9a68536",
   "metadata": {},
   "outputs": [
    {
     "name": "stdout",
     "output_type": "stream",
     "text": [
      "Financial Analysis\n",
      "----------------------------\n",
      "Total Months: 86\n",
      "Total: $38382578\n",
      "Average  Change: $-2315.12\n",
      "Greatest Increase in Profits: Feb-2012 ($1926159)\n",
      "Greatest Decrease in Profits: Sep-2013 ($-2196167)\n",
      "\n"
     ]
    }
   ],
   "source": [
    "# Find the changes in pnl (i.e. after - before)\n",
    "pnl_changes = [x - y for x,y in zip(pnls[1:], pnls)]\n",
    "average_change_in_pnl = round(sum(pnl_changes)/len(pnl_changes), 2)\n",
    "\n",
    "# max increase in profits \n",
    "max_incr_in_profits = max(pnl_changes)\n",
    "\n",
    "# max decrease in profits\n",
    "max_decr_in_profits = min(pnl_changes)\n",
    "\n",
    "# date of the max increase\n",
    "date_of_max_incr_in_profits = date_of_pnl_change(budget_data, pnl_changes, max_incr_in_profits)\n",
    "\n",
    "# date of the max increase\n",
    "date_of_max_decr_in_profits = date_of_pnl_change(budget_data, pnl_changes, max_decr_in_profits)\n",
    "\n",
    "# print out stats: 1. stdout, 2. file\n",
    "# 0. Create string to be outputted\n",
    "stats = f\"\"\"Financial Analysis\n",
    "----------------------------\n",
    "Total Months: {total_months}\n",
    "Total: ${net_total_pnl}\n",
    "Average  Change: ${average_change_in_pnl:.2f}\n",
    "Greatest Increase in Profits: {date_of_max_incr_in_profits} (${max_incr_in_profits})\n",
    "Greatest Decrease in Profits: {date_of_max_decr_in_profits} (${max_decr_in_profits})\n",
    "\"\"\"\n",
    "\n",
    "# 1. stdout (output to screen)\n",
    "print(stats)\n",
    "\n",
    "# 2. output to file\n",
    "with open(output_file, 'w') as of:\n",
    "    of.write(stats)"
   ]
  },
  {
   "cell_type": "code",
   "execution_count": null,
   "id": "61859a14-a61b-42e1-9d34-3a6c6575eacd",
   "metadata": {},
   "outputs": [],
   "source": []
  }
 ],
 "metadata": {
  "kernelspec": {
   "display_name": "dev",
   "language": "python",
   "name": "dev"
  },
  "language_info": {
   "codemirror_mode": {
    "name": "ipython",
    "version": 3
   },
   "file_extension": ".py",
   "mimetype": "text/x-python",
   "name": "python",
   "nbconvert_exporter": "python",
   "pygments_lexer": "ipython3",
   "version": "3.7.13"
  }
 },
 "nbformat": 4,
 "nbformat_minor": 5
}
